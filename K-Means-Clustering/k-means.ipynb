{
 "cells": [
  {
   "cell_type": "code",
   "execution_count": 17,
   "metadata": {
    "collapsed": true
   },
   "outputs": [],
   "source": [
    "import numpy as np\n",
    "import pandas as pd\n",
    "import math\n",
    "import random\n",
    "import os"
   ]
  },
  {
   "cell_type": "code",
   "execution_count": 11,
   "metadata": {
    "collapsed": true
   },
   "outputs": [],
   "source": [
    "df = pd.read_csv('BCLL.txt', sep='\\t', index_col=False)\n",
    "df.drop('IDENTIFIER', axis=1, inplace=True)"
   ]
  },
  {
   "cell_type": "code",
   "execution_count": 12,
   "metadata": {
    "collapsed": true
   },
   "outputs": [],
   "source": [
    "def calculate_distance(case1, case2): # complexity is d = 21\n",
    "    distance_squared = 0\n",
    "    for i in range(len(case1)):\n",
    "        distance_squared += (case1[i] - case2[i]) ** 2\n",
    "    return math.sqrt(distance_squared)"
   ]
  },
  {
   "cell_type": "code",
   "execution_count": 13,
   "metadata": {
    "collapsed": true
   },
   "outputs": [],
   "source": [
    "def calculate_centroids(clusters):\n",
    "    cluster_centers = {}\n",
    "    for key, cases in clusters.items():\n",
    "        temp = []\n",
    "        for i in range(1, 22):\n",
    "            suma = 0\n",
    "            for case in cases:\n",
    "                suma += case[i]\n",
    "            temp.append(suma / len(cases))\n",
    "        cluster_centers[key] = temp\n",
    "    return cluster_centers"
   ]
  },
  {
   "cell_type": "code",
   "execution_count": 14,
   "metadata": {
    "collapsed": true
   },
   "outputs": [],
   "source": [
    "def compare_clusters(centroids_1, centroids_2):\n",
    "    keys_1 = centroids_1.keys()\n",
    "    keys_2 = centroids_2.keys()\n",
    "    if len(keys_1) != len(keys_2):\n",
    "        return False\n",
    "    for key in keys_1:\n",
    "        if centroids_1[key] != centroids_2[key]:\n",
    "            return False\n",
    "    return True"
   ]
  },
  {
   "cell_type": "code",
   "execution_count": 15,
   "metadata": {
    "collapsed": true
   },
   "outputs": [],
   "source": [
    "def KMeans(N, k):\n",
    "    initial_center_indexes = random.sample(range(0, N), k)\n",
    "    cluster_centers = {}\n",
    "    for i in initial_center_indexes:\n",
    "        list1 = []\n",
    "        for j in range(21):\n",
    "            list1.append(df.ix[i][j + 1])\n",
    "        cluster_centers[i] = list1\n",
    "    while True:\n",
    "        clusters = {}\n",
    "        for key in cluster_centers.keys():\n",
    "            clusters[key] = []\n",
    "        for index, rows in df.iterrows(): # comlexity is N = 4655\n",
    "            rows = rows.tolist()\n",
    "            mini = math.inf\n",
    "            min_key = -1\n",
    "            for key in cluster_centers.keys(): # complexity is k\n",
    "                dis = calculate_distance(rows[1:], cluster_centers[key]) # complexity is d = 21\n",
    "                if mini > dis:\n",
    "                    mini = dis\n",
    "                    min_key = key\n",
    "            clusters[min_key].append(rows)\n",
    "        centroids_new = calculate_centroids(clusters)\n",
    "        if compare_clusters(cluster_centers, centroids_new):\n",
    "            return clusters\n",
    "        else:\n",
    "            cluster_centers = centroids_new"
   ]
  },
  {
   "cell_type": "code",
   "execution_count": 22,
   "metadata": {},
   "outputs": [
    {
     "name": "stdout",
     "output_type": "stream",
     "text": [
      "Go for walk or something because this may take hours.\n",
      "Processing k-means for k = 15\n",
      "15 clusters found. Storing them in a folder named 'cluster_number_'15\n",
      "Processing k-means for k = 24\n",
      "24 clusters found. Storing them in a folder named 'cluster_number_'24\n",
      "Processing k-means for k = 34\n",
      "34 clusters found. Storing them in a folder named 'cluster_number_'34\n",
      "Processing k-means for k = 33\n",
      "33 clusters found. Storing them in a folder named 'cluster_number_'33\n",
      "Processing k-means for k = 20\n",
      "20 clusters found. Storing them in a folder named 'cluster_number_'20\n",
      "Processing k-means for k = 4\n",
      "4 clusters found. Storing them in a folder named 'cluster_number_'4\n",
      "Processing k-means for k = 43\n",
      "43 clusters found. Storing them in a folder named 'cluster_number_'43\n",
      "Processing k-means for k = 17\n",
      "17 clusters found. Storing them in a folder named 'cluster_number_'17\n",
      "Processing k-means for k = 46\n",
      "46 clusters found. Storing them in a folder named 'cluster_number_'46\n",
      "Processing k-means for k = 10\n",
      "10 clusters found. Storing them in a folder named 'cluster_number_'10\n"
     ]
    }
   ],
   "source": [
    "N = len(df)\n",
    "sqrt_N = math.floor(math.sqrt(N))\n",
    "Ks = random.sample(range(2, sqrt_N), 10)\n",
    "print(\"Go for walk or something because this may take hours.\")\n",
    "for k in Ks:\n",
    "    print(\"Processing k-means for k =\", k)\n",
    "    clusters = KMeans(N, k)\n",
    "    print(k, \"clusters found. Storing them in a folder named 'cluster_number_'\" + str(k))\n",
    "    if not os.path.exists(os.path.dirname('cluster_number_' + str(k))):\n",
    "        os.makedirs('cluster_number_' + str(k))\n",
    "    else:\n",
    "        folder = os.path.dirname('cluster_number_' + str(k))\n",
    "        shutil.rmtree(folder)\n",
    "        os.makedirs('cluster_number_' + str(k))\n",
    "    itr = 0\n",
    "    for key, cases in clusters.items():\n",
    "        itr += 1\n",
    "        f = open('cluster_number_' + str(k) + '/cluster' + str(itr) + '.txt', 'a+')\n",
    "        for case in cases:\n",
    "            f.write(case[0] + '\\n')\n",
    "        f.close()"
   ]
  },
  {
   "cell_type": "code",
   "execution_count": null,
   "metadata": {
    "collapsed": true
   },
   "outputs": [],
   "source": []
  }
 ],
 "metadata": {
  "kernelspec": {
   "display_name": "Python 3",
   "language": "python",
   "name": "python3"
  },
  "language_info": {
   "codemirror_mode": {
    "name": "ipython",
    "version": 3
   },
   "file_extension": ".py",
   "mimetype": "text/x-python",
   "name": "python",
   "nbconvert_exporter": "python",
   "pygments_lexer": "ipython3",
   "version": "3.6.3"
  }
 },
 "nbformat": 4,
 "nbformat_minor": 2
}
