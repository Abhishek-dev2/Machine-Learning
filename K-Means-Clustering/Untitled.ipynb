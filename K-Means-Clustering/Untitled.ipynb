{
 "cells": [
  {
   "cell_type": "code",
   "execution_count": 82,
   "metadata": {},
   "outputs": [],
   "source": [
    "import numpy as np\n",
    "import pandas as pd\n",
    "import random\n",
    "from collections import defaultdict\n",
    "import copy\n",
    "import math"
   ]
  },
  {
   "cell_type": "code",
   "execution_count": 166,
   "metadata": {},
   "outputs": [],
   "source": [
    "df = pd.read_csv('BCLL.txt', sep='\\t', index_col=False)"
   ]
  },
  {
   "cell_type": "code",
   "execution_count": 167,
   "metadata": {},
   "outputs": [
    {
     "name": "stdout",
     "output_type": "stream",
     "text": [
      "['ID_REF', 'GSM45021', 'GSM45022', 'GSM45023', 'GSM45024', 'GSM45025', 'GSM45066', 'GSM45067', 'GSM45068', 'GSM45069', 'GSM45070', 'GSM45071', 'GSM45072', 'GSM45073', 'GSM45074', 'GSM45075', 'GSM45076', 'GSM45077', 'GSM45078', 'GSM45079', 'GSM45080', 'GSM45081']\n"
     ]
    }
   ],
   "source": [
    "df.drop('IDENTIFIER', 1, inplace=True)\n",
    "print(list(df))"
   ]
  },
  {
   "cell_type": "code",
   "execution_count": 168,
   "metadata": {},
   "outputs": [],
   "source": [
    "X = df.values"
   ]
  },
  {
   "cell_type": "code",
   "execution_count": 169,
   "metadata": {},
   "outputs": [
    {
     "name": "stdout",
     "output_type": "stream",
     "text": [
      "4655\n"
     ]
    }
   ],
   "source": [
    "print(len(X))"
   ]
  },
  {
   "cell_type": "code",
   "execution_count": 170,
   "metadata": {},
   "outputs": [
    {
     "name": "stdout",
     "output_type": "stream",
     "text": [
      "[['1009_at' 1145.5 1014.9 1103.1 850.4 886.6 859.3 1228.6 1231.9 1118.3\n",
      "  762.1 1438.9 763.7 1382.4 1008.2 1025.9 1197.0 735.2 865.3 485.0 811.1\n",
      "  783.0]\n",
      " ['100_g_at' 169.0 200.6 196.3 151.4 167.8 111.3 164.9 240.6 155.9 215.2\n",
      "  121.7 277.2 172.7 163.6 194.0 117.1 130.5 164.2 212.2 108.4 114.7]]\n"
     ]
    }
   ],
   "source": [
    "print(X[:2])"
   ]
  },
  {
   "cell_type": "code",
   "execution_count": 171,
   "metadata": {},
   "outputs": [
    {
     "name": "stdout",
     "output_type": "stream",
     "text": [
      "['1009_at', '100_g_at', '1011_s_at', '1012_at', '1013_at', '1018_at', '1019_g_at', '1020_s_at', '1025_g_at', '1029_s_at']\n",
      "4655\n",
      "4655\n"
     ]
    }
   ],
   "source": [
    "temp =[i[0] for i in X]\n",
    "print(temp[:10])\n",
    "print(len(temp))\n",
    "print(len(set(temp)))"
   ]
  },
  {
   "cell_type": "code",
   "execution_count": 172,
   "metadata": {},
   "outputs": [],
   "source": [
    "def get_distance(point1:'numpy array', point2:'numpy array'):\n",
    "    return np.sqrt(np.sum((point1 - point2)**2)) #no use of zero index which is id"
   ]
  },
  {
   "cell_type": "code",
   "execution_count": 184,
   "metadata": {},
   "outputs": [],
   "source": [
    "def get_id_best_centroid(node, centroid_list:'dictionary of centroids id, value'):\n",
    "    mini = math.inf\n",
    "    for key, centroid in centroid_list.items():\n",
    "        distance = get_distance(node, centroid)\n",
    "        if distance < mini:\n",
    "            best_id = key\n",
    "        \n",
    "    return best_id\n",
    "    "
   ]
  },
  {
   "cell_type": "code",
   "execution_count": 218,
   "metadata": {},
   "outputs": [],
   "source": [
    "def get_new_centroids(node_id_to_cluster_id:'node_id:cluster id', node_id_to_node_features:'node id: node vector'):\n",
    "    cluster_id_to_node_list = defaultdict(list)\n",
    "    for node_id, cluster_id in node_id_to_cluster_id.items():\n",
    "        cluster_id_to_node_list[cluster_id].append(node_id_to_node_features[node_id])\n",
    "    centroid_list_new = defaultdict(list)\n",
    "    for cluster_id, list_of_nodes in cluster_id_to_node_list.items():\n",
    "        print(\"cluster id {}\".format(cluster_id))\n",
    "        centroid_list_new[cluster_id] = sum(list_of_nodes)/len(list_of_nodes)\n",
    "    del cluster_id_to_node_list\n",
    "    return centroid_list_new"
   ]
  },
  {
   "cell_type": "code",
   "execution_count": 222,
   "metadata": {},
   "outputs": [],
   "source": [
    "\n",
    "def K_means(k, X):\n",
    "    node_id_to_node_features = defaultdict(list) # node id : node features\n",
    "    centroid_dictionary = defaultdict(list) # cluster id: node features\n",
    "    node_id_to_cluster_id = defaultdict(list) # node id: node features\n",
    "\n",
    "    for node in X:\n",
    "        id_ref = node[0]\n",
    "        node_id_to_node_features[id_ref] = node[1:]\n",
    "\n",
    "    indexes = [i for i in range(len(X))]\n",
    "    random.shuffle(indexes)\n",
    "    for i in range(k):\n",
    "        centroid_dictionary[i] = copy.deepcopy(X[indexes[i]][1:])\n",
    "    print(centroid_dictionary)\n",
    "#     print('********')\n",
    "    while True:\n",
    "        for node_id, node_features in node_id_to_node_features.items():\n",
    "            id_best_centroid = get_id_best_centroid(node_features,centroid_dictionary)\n",
    "            node_id_to_cluster_id[node_id] = id_best_centroid\n",
    "        \n",
    "    for node_id, features in centroid_dictionary.items():\n",
    "        print(\"node :{0} cluster :{1}\".format(node_id, node_id_to_cluster_id[node_id]))\n",
    "        centroid_dictionary_new = get_new_centroids(node_id_to_cluster_id, node_id_to_node_features)\n",
    "        print(\" old centroid {}\". format(centroid_dictionary))\n",
    "        print(\"*********\")\n",
    "        print(\" new dictionary {}\".format(centroid_dictionary_new))\n",
    "        print('++++++++++')\n",
    "        if centroid_dictionary_new == centroid_dictionary:\n",
    "            break\n",
    "#         del centroid_dictionary\n",
    "\n",
    "        centroid_dictionary = copy.deepcopy(centroid_dictionary_new)\n",
    "    return dictionary"
   ]
  },
  {
   "cell_type": "code",
   "execution_count": 220,
   "metadata": {},
   "outputs": [
    {
     "name": "stdout",
     "output_type": "stream",
     "text": [
      "22\n",
      "['1009_at' 1145.5 1014.9 1103.1 850.4 886.6 859.3 1228.6 1231.9 1118.3\n",
      " 762.1 1438.9 763.7 1382.4 1008.2 1025.9 1197.0 735.2 865.3 485.0 811.1\n",
      " 783.0]\n"
     ]
    }
   ],
   "source": [
    "print(len(X[0]))\n",
    "print(X[0])"
   ]
  },
  {
   "cell_type": "code",
   "execution_count": 221,
   "metadata": {},
   "outputs": [
    {
     "name": "stdout",
     "output_type": "stream",
     "text": [
      "cluster id 2\n",
      " old centroid defaultdict(<class 'list'>, {0: array([43.8, 53.6, 28.3, 26.9, 58.3, 59.6, 56.7, 64.7, 11.3, 40.6, 74.8,\n",
      "       52.2, 43.2, 48.0, 40.1, 56.4, 62.1, 34.3, 33.3, 60.5, 9.5],\n",
      "      dtype=object), 1: array([4.2, 1.2, 1.8, 8.3, 1.3, 2.6, 4.7, 8.4, 4.9, 3.2, 2.3, 3.6, 1.9,\n",
      "       0.9, 2.6, 1.8, 3.5, 23.5, 5.8, 4.8, 3.8], dtype=object), 2: array([100.6, 122.3, 118.6, 118.6, 126.0, 5.3, 12.1, 101.4, 46.5, 35.1,\n",
      "       39.8, 111.7, 96.6, 128.4, 112.1, 106.6, 94.1, 7.3, 113.2, 192.9,\n",
      "       32.2], dtype=object)})\n",
      "*********\n",
      " new dictionary defaultdict(<class 'list'>, {2: array([203.60962406015085, 173.0753383458643, 188.8531901181525,\n",
      "       174.53621911922707, 170.09896885069813, 186.22249194414573,\n",
      "       173.73800214822822, 188.60977443609065, 202.44560687432838,\n",
      "       219.78812030075133, 238.11677765843245, 172.81295381310437,\n",
      "       187.5938775510208, 189.75327604726093, 173.84638023630507,\n",
      "       170.07871106337294, 157.19841031149323, 182.38191192266342,\n",
      "       182.99484425349098, 191.01117078410297, 185.40006444683092],\n",
      "      dtype=object)})\n",
      "++++++++++\n",
      "cluster id 2\n",
      " old centroid defaultdict(<class 'list'>, {2: array([203.60962406015085, 173.0753383458643, 188.8531901181525,\n",
      "       174.53621911922707, 170.09896885069813, 186.22249194414573,\n",
      "       173.73800214822822, 188.60977443609065, 202.44560687432838,\n",
      "       219.78812030075133, 238.11677765843245, 172.81295381310437,\n",
      "       187.5938775510208, 189.75327604726093, 173.84638023630507,\n",
      "       170.07871106337294, 157.19841031149323, 182.38191192266342,\n",
      "       182.99484425349098, 191.01117078410297, 185.40006444683092],\n",
      "      dtype=object)})\n",
      "*********\n",
      " new dictionary defaultdict(<class 'list'>, {2: array([203.60962406015085, 173.0753383458643, 188.8531901181525,\n",
      "       174.53621911922707, 170.09896885069813, 186.22249194414573,\n",
      "       173.73800214822822, 188.60977443609065, 202.44560687432838,\n",
      "       219.78812030075133, 238.11677765843245, 172.81295381310437,\n",
      "       187.5938775510208, 189.75327604726093, 173.84638023630507,\n",
      "       170.07871106337294, 157.19841031149323, 182.38191192266342,\n",
      "       182.99484425349098, 191.01117078410297, 185.40006444683092],\n",
      "      dtype=object)})\n",
      "++++++++++\n"
     ]
    },
    {
     "ename": "ValueError",
     "evalue": "The truth value of an array with more than one element is ambiguous. Use a.any() or a.all()",
     "output_type": "error",
     "traceback": [
      "\u001b[1;31m---------------------------------------------------------------------------\u001b[0m",
      "\u001b[1;31mValueError\u001b[0m                                Traceback (most recent call last)",
      "\u001b[1;32m<ipython-input-221-09787c8e6cde>\u001b[0m in \u001b[0;36m<module>\u001b[1;34m()\u001b[0m\n\u001b[1;32m----> 1\u001b[1;33m \u001b[0mans\u001b[0m \u001b[1;33m=\u001b[0m \u001b[0mK_means\u001b[0m\u001b[1;33m(\u001b[0m\u001b[1;36m3\u001b[0m\u001b[1;33m,\u001b[0m \u001b[0mX\u001b[0m\u001b[1;33m)\u001b[0m\u001b[1;33m\u001b[0m\u001b[0m\n\u001b[0m",
      "\u001b[1;32m<ipython-input-219-e65e13b0c8b3>\u001b[0m in \u001b[0;36mK_means\u001b[1;34m(k, X)\u001b[0m\n\u001b[0;32m     26\u001b[0m         \u001b[0mprint\u001b[0m\u001b[1;33m(\u001b[0m\u001b[1;34m\" new dictionary {}\"\u001b[0m\u001b[1;33m.\u001b[0m\u001b[0mformat\u001b[0m\u001b[1;33m(\u001b[0m\u001b[0mcentroid_dictionary_new\u001b[0m\u001b[1;33m)\u001b[0m\u001b[1;33m)\u001b[0m\u001b[1;33m\u001b[0m\u001b[0m\n\u001b[0;32m     27\u001b[0m         \u001b[0mprint\u001b[0m\u001b[1;33m(\u001b[0m\u001b[1;34m'++++++++++'\u001b[0m\u001b[1;33m)\u001b[0m\u001b[1;33m\u001b[0m\u001b[0m\n\u001b[1;32m---> 28\u001b[1;33m         \u001b[1;32mif\u001b[0m \u001b[0mcentroid_dictionary_new\u001b[0m \u001b[1;33m==\u001b[0m \u001b[0mcentroid_dictionary\u001b[0m\u001b[1;33m:\u001b[0m\u001b[1;33m\u001b[0m\u001b[0m\n\u001b[0m\u001b[0;32m     29\u001b[0m             \u001b[1;32mbreak\u001b[0m\u001b[1;33m\u001b[0m\u001b[0m\n\u001b[0;32m     30\u001b[0m \u001b[1;31m#         del centroid_dictionary\u001b[0m\u001b[1;33m\u001b[0m\u001b[1;33m\u001b[0m\u001b[0m\n",
      "\u001b[1;31mValueError\u001b[0m: The truth value of an array with more than one element is ambiguous. Use a.any() or a.all()"
     ]
    }
   ],
   "source": [
    "ans = K_means(3, X)"
   ]
  },
  {
   "cell_type": "code",
   "execution_count": null,
   "metadata": {},
   "outputs": [],
   "source": []
  },
  {
   "cell_type": "code",
   "execution_count": null,
   "metadata": {},
   "outputs": [],
   "source": []
  }
 ],
 "metadata": {
  "kernelspec": {
   "display_name": "Python [conda env:for_ml]",
   "language": "python",
   "name": "conda-env-for_ml-py"
  },
  "language_info": {
   "codemirror_mode": {
    "name": "ipython",
    "version": 3
   },
   "file_extension": ".py",
   "mimetype": "text/x-python",
   "name": "python",
   "nbconvert_exporter": "python",
   "pygments_lexer": "ipython3",
   "version": "3.6.6"
  }
 },
 "nbformat": 4,
 "nbformat_minor": 2
}
