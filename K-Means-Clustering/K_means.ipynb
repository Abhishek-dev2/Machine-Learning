{
 "cells": [
  {
   "cell_type": "code",
   "execution_count": 106,
   "metadata": {},
   "outputs": [],
   "source": [
    "import numpy as np\n",
    "import pandas as pd\n",
    "import random\n",
    "from collections import defaultdict\n",
    "import copy\n",
    "import math\n",
    "import os"
   ]
  },
  {
   "cell_type": "code",
   "execution_count": 2,
   "metadata": {},
   "outputs": [],
   "source": [
    "df = pd.read_csv('BCLL.txt', sep='\\t', index_col=False)"
   ]
  },
  {
   "cell_type": "code",
   "execution_count": 3,
   "metadata": {},
   "outputs": [
    {
     "name": "stdout",
     "output_type": "stream",
     "text": [
      "['ID_REF', 'GSM45021', 'GSM45022', 'GSM45023', 'GSM45024', 'GSM45025', 'GSM45066', 'GSM45067', 'GSM45068', 'GSM45069', 'GSM45070', 'GSM45071', 'GSM45072', 'GSM45073', 'GSM45074', 'GSM45075', 'GSM45076', 'GSM45077', 'GSM45078', 'GSM45079', 'GSM45080', 'GSM45081']\n"
     ]
    }
   ],
   "source": [
    "df.drop('IDENTIFIER', 1, inplace=True)\n",
    "print(list(df))"
   ]
  },
  {
   "cell_type": "code",
   "execution_count": 4,
   "metadata": {},
   "outputs": [],
   "source": [
    "X = df.values"
   ]
  },
  {
   "cell_type": "code",
   "execution_count": 5,
   "metadata": {},
   "outputs": [
    {
     "name": "stdout",
     "output_type": "stream",
     "text": [
      "4655\n"
     ]
    }
   ],
   "source": [
    "print(len(X))"
   ]
  },
  {
   "cell_type": "code",
   "execution_count": 6,
   "metadata": {},
   "outputs": [
    {
     "name": "stdout",
     "output_type": "stream",
     "text": [
      "[['1009_at' 1145.5 1014.9 1103.1 850.4 886.6 859.3 1228.6 1231.9 1118.3\n",
      "  762.1 1438.9 763.7 1382.4 1008.2 1025.9 1197.0 735.2 865.3 485.0 811.1\n",
      "  783.0]\n",
      " ['100_g_at' 169.0 200.6 196.3 151.4 167.8 111.3 164.9 240.6 155.9 215.2\n",
      "  121.7 277.2 172.7 163.6 194.0 117.1 130.5 164.2 212.2 108.4 114.7]]\n"
     ]
    }
   ],
   "source": [
    "print(X[:2])"
   ]
  },
  {
   "cell_type": "code",
   "execution_count": 7,
   "metadata": {},
   "outputs": [
    {
     "name": "stdout",
     "output_type": "stream",
     "text": [
      "['1009_at', '100_g_at', '1011_s_at', '1012_at', '1013_at', '1018_at', '1019_g_at', '1020_s_at', '1025_g_at', '1029_s_at']\n",
      "4655\n",
      "4655\n"
     ]
    }
   ],
   "source": [
    "temp =[i[0] for i in X]\n",
    "print(temp[:10])\n",
    "print(len(temp))\n",
    "print(len(set(temp)))"
   ]
  },
  {
   "cell_type": "code",
   "execution_count": 8,
   "metadata": {},
   "outputs": [],
   "source": [
    "def get_distance(point1:'numpy array', point2:'numpy array'):\n",
    "    return np.sqrt(np.sum((point1 - point2)**2)) #no use of zero index which is id"
   ]
  },
  {
   "cell_type": "code",
   "execution_count": 17,
   "metadata": {},
   "outputs": [],
   "source": [
    "def get_id_best_centroid(node, centroid_list:'dictionary of centroids id, value'):\n",
    "    mini = math.inf\n",
    "    for key, centroid in centroid_list.items():\n",
    "        distance = get_distance(node, centroid)\n",
    "        if distance < mini:\n",
    "            mini = distance\n",
    "            best_id = key\n",
    "        \n",
    "    return best_id\n",
    "    "
   ]
  },
  {
   "cell_type": "code",
   "execution_count": 56,
   "metadata": {},
   "outputs": [],
   "source": [
    "def get_new_centroids(node_id_to_cluster_id:'node_id:cluster id', node_id_to_node_features:'node id: node vector'):\n",
    "    cluster_id_to_node_list = defaultdict(list)\n",
    "    for node_id, cluster_id in node_id_to_cluster_id.items():\n",
    "#         print(\"node id {0}\\nnode features{1}\\ncluster id{2}\".format(node_id, node_id_to_node_features[node_id], node_id_to_cluster_id[node_id]))\n",
    "        cluster_id_to_node_list[cluster_id].append(node_id_to_node_features[node_id])\n",
    "    centroid_list_new = defaultdict(list)\n",
    "#     centroid_list_new = {}\n",
    "    for cluster_id, list_of_nodes in cluster_id_to_node_list.items():\n",
    "#         print(\"cluster id {}\".format(cluster_id))\n",
    "        centroid_list_new[cluster_id] = sum(list_of_nodes)/len(list_of_nodes)\n",
    "    del cluster_id_to_node_list\n",
    "    return centroid_list_new"
   ]
  },
  {
   "cell_type": "code",
   "execution_count": 97,
   "metadata": {},
   "outputs": [],
   "source": [
    "\n",
    "def K_means(k, X):\n",
    "    node_id_to_node_features = defaultdict(list) # node id : node features\n",
    "    centroid_dictionary = defaultdict(list) # cluster id: node features\n",
    "    node_id_to_cluster_id = defaultdict(list) # node id: node features\n",
    "#     node_id_to_node_features = {}\n",
    "#     centroid_dictionary = {}\n",
    "#     node_id_to_cluster_id ={}\n",
    "    for node in X:\n",
    "        id_ref = node[0]\n",
    "        node_id_to_node_features[id_ref] = node[1:]\n",
    "\n",
    "    indexes = [i for i in range(len(X))]\n",
    "    random.shuffle(indexes)\n",
    "    for i in range(k):\n",
    "        centroid_dictionary[i] = copy.deepcopy(X[indexes[i]][1:])\n",
    "#     print(centroid_dictionary)\n",
    "#     print('********')\n",
    "    while True:\n",
    "        count =0\n",
    "        for node_id, node_features in node_id_to_node_features.items():\n",
    "            id_best_centroid = get_id_best_centroid(node_features,centroid_dictionary)\n",
    "#             print(node_id_to_cluster_id[node_id], id_best_centroid)\n",
    "                \n",
    "            if node_id_to_cluster_id[node_id]!=id_best_centroid:\n",
    "                count+=1\n",
    "            node_id_to_cluster_id[node_id] = id_best_centroid\n",
    "#         print(\" node id to cluster id {}\".format(node_id_to_cluster_id))\n",
    "#         print(\"no of changes {}\".format(count))\n",
    "        if count==0:\n",
    "            return centroid_dictionary, node_id_to_cluster_id, node_id_to_node_features\n",
    "#         for node_id, features in centroid_dictionary.items():\n",
    "#             print(\"node :{0} cluster :{1}\".format(node_id, node_id_to_cluster_id[node_id]))\n",
    "        centroid_dictionary_new = get_new_centroids(node_id_to_cluster_id, node_id_to_node_features)\n",
    "#         print(\" old centroid {}\". format(centroid_dictionary))\n",
    "#         print(\"*********\")\n",
    "#         print(\" new dictionary {}\".format(centroid_dictionary_new))\n",
    "#         print('++++++++++')\n",
    "#         print(len(centroid_dictionary[0]))\n",
    "#         print(len(centroid_dictionary_new[0]))\n",
    "#         print(centroid_dictionary_new[0] == centroid_dictionary[0])\n",
    "#         flag=0\n",
    "#         for centroid_id , y in centroid_dictionary.items():\n",
    "#             if np.all([centroid_dictionary[centroid_id], centroid_dictionary_new[centroid_id]]) is not True:\n",
    "#                 print(\"NOT true\")\n",
    "#                 flag=1\n",
    "#                 break\n",
    "                \n",
    "#         if flag==0:\n",
    "#             break            \n",
    "        centroid_dictionary = copy.deepcopy(centroid_dictionary_new)\n",
    "#     return dictionary"
   ]
  },
  {
   "cell_type": "code",
   "execution_count": 113,
   "metadata": {
    "scrolled": true
   },
   "outputs": [
    {
     "name": "stdout",
     "output_type": "stream",
     "text": [
      "k: 32\n"
     ]
    },
    {
     "ename": "KeyboardInterrupt",
     "evalue": "",
     "output_type": "error",
     "traceback": [
      "\u001b[1;31m---------------------------------------------------------------------------\u001b[0m",
      "\u001b[1;31mKeyboardInterrupt\u001b[0m                         Traceback (most recent call last)",
      "\u001b[1;32m<ipython-input-113-82e63a2a690d>\u001b[0m in \u001b[0;36m<module>\u001b[1;34m()\u001b[0m\n\u001b[0;32m      3\u001b[0m \u001b[1;32mfor\u001b[0m \u001b[0mk\u001b[0m \u001b[1;32min\u001b[0m \u001b[0mtotal_clusters\u001b[0m\u001b[1;33m[\u001b[0m\u001b[1;33m:\u001b[0m\u001b[1;36m10\u001b[0m\u001b[1;33m]\u001b[0m\u001b[1;33m:\u001b[0m\u001b[1;33m\u001b[0m\u001b[0m\n\u001b[0;32m      4\u001b[0m     \u001b[0mprint\u001b[0m\u001b[1;33m(\u001b[0m\u001b[1;34m\"k: {}\"\u001b[0m\u001b[1;33m.\u001b[0m\u001b[0mformat\u001b[0m\u001b[1;33m(\u001b[0m\u001b[0mk\u001b[0m\u001b[1;33m)\u001b[0m\u001b[1;33m)\u001b[0m\u001b[1;33m\u001b[0m\u001b[0m\n\u001b[1;32m----> 5\u001b[1;33m     \u001b[0mcluster_id_to_centroid_features\u001b[0m\u001b[1;33m,\u001b[0m \u001b[0mnode_id_to_cluster_id\u001b[0m\u001b[1;33m,\u001b[0m \u001b[0mnode_id_to_node_features\u001b[0m \u001b[1;33m=\u001b[0m \u001b[0mK_means\u001b[0m\u001b[1;33m(\u001b[0m\u001b[0mk\u001b[0m\u001b[1;33m,\u001b[0m \u001b[0mX\u001b[0m\u001b[1;33m)\u001b[0m\u001b[1;33m\u001b[0m\u001b[0m\n\u001b[0m\u001b[0;32m      6\u001b[0m \u001b[1;33m\u001b[0m\u001b[0m\n\u001b[0;32m      7\u001b[0m     \u001b[1;32mif\u001b[0m \u001b[1;32mnot\u001b[0m \u001b[0mos\u001b[0m\u001b[1;33m.\u001b[0m\u001b[0mpath\u001b[0m\u001b[1;33m.\u001b[0m\u001b[0mexists\u001b[0m\u001b[1;33m(\u001b[0m\u001b[0mos\u001b[0m\u001b[1;33m.\u001b[0m\u001b[0mpath\u001b[0m\u001b[1;33m.\u001b[0m\u001b[0mdirname\u001b[0m\u001b[1;33m(\u001b[0m\u001b[1;34m'cluster_number_{}'\u001b[0m\u001b[1;33m.\u001b[0m\u001b[0mformat\u001b[0m\u001b[1;33m(\u001b[0m\u001b[0mk\u001b[0m\u001b[1;33m)\u001b[0m\u001b[1;33m)\u001b[0m\u001b[1;33m)\u001b[0m\u001b[1;33m:\u001b[0m\u001b[1;33m\u001b[0m\u001b[0m\n",
      "\u001b[1;32m<ipython-input-97-1cd8b3e3a422>\u001b[0m in \u001b[0;36mK_means\u001b[1;34m(k, X)\u001b[0m\n\u001b[0;32m     20\u001b[0m         \u001b[0mcount\u001b[0m \u001b[1;33m=\u001b[0m\u001b[1;36m0\u001b[0m\u001b[1;33m\u001b[0m\u001b[0m\n\u001b[0;32m     21\u001b[0m         \u001b[1;32mfor\u001b[0m \u001b[0mnode_id\u001b[0m\u001b[1;33m,\u001b[0m \u001b[0mnode_features\u001b[0m \u001b[1;32min\u001b[0m \u001b[0mnode_id_to_node_features\u001b[0m\u001b[1;33m.\u001b[0m\u001b[0mitems\u001b[0m\u001b[1;33m(\u001b[0m\u001b[1;33m)\u001b[0m\u001b[1;33m:\u001b[0m\u001b[1;33m\u001b[0m\u001b[0m\n\u001b[1;32m---> 22\u001b[1;33m             \u001b[0mid_best_centroid\u001b[0m \u001b[1;33m=\u001b[0m \u001b[0mget_id_best_centroid\u001b[0m\u001b[1;33m(\u001b[0m\u001b[0mnode_features\u001b[0m\u001b[1;33m,\u001b[0m\u001b[0mcentroid_dictionary\u001b[0m\u001b[1;33m)\u001b[0m\u001b[1;33m\u001b[0m\u001b[0m\n\u001b[0m\u001b[0;32m     23\u001b[0m \u001b[1;31m#             print(node_id_to_cluster_id[node_id], id_best_centroid)\u001b[0m\u001b[1;33m\u001b[0m\u001b[1;33m\u001b[0m\u001b[0m\n\u001b[0;32m     24\u001b[0m \u001b[1;33m\u001b[0m\u001b[0m\n",
      "\u001b[1;32m<ipython-input-17-dfcb5e1075b2>\u001b[0m in \u001b[0;36mget_id_best_centroid\u001b[1;34m(node, centroid_list)\u001b[0m\n\u001b[0;32m      2\u001b[0m     \u001b[0mmini\u001b[0m \u001b[1;33m=\u001b[0m \u001b[0mmath\u001b[0m\u001b[1;33m.\u001b[0m\u001b[0minf\u001b[0m\u001b[1;33m\u001b[0m\u001b[0m\n\u001b[0;32m      3\u001b[0m     \u001b[1;32mfor\u001b[0m \u001b[0mkey\u001b[0m\u001b[1;33m,\u001b[0m \u001b[0mcentroid\u001b[0m \u001b[1;32min\u001b[0m \u001b[0mcentroid_list\u001b[0m\u001b[1;33m.\u001b[0m\u001b[0mitems\u001b[0m\u001b[1;33m(\u001b[0m\u001b[1;33m)\u001b[0m\u001b[1;33m:\u001b[0m\u001b[1;33m\u001b[0m\u001b[0m\n\u001b[1;32m----> 4\u001b[1;33m         \u001b[0mdistance\u001b[0m \u001b[1;33m=\u001b[0m \u001b[0mget_distance\u001b[0m\u001b[1;33m(\u001b[0m\u001b[0mnode\u001b[0m\u001b[1;33m,\u001b[0m \u001b[0mcentroid\u001b[0m\u001b[1;33m)\u001b[0m\u001b[1;33m\u001b[0m\u001b[0m\n\u001b[0m\u001b[0;32m      5\u001b[0m         \u001b[1;32mif\u001b[0m \u001b[0mdistance\u001b[0m \u001b[1;33m<\u001b[0m \u001b[0mmini\u001b[0m\u001b[1;33m:\u001b[0m\u001b[1;33m\u001b[0m\u001b[0m\n\u001b[0;32m      6\u001b[0m             \u001b[0mmini\u001b[0m \u001b[1;33m=\u001b[0m \u001b[0mdistance\u001b[0m\u001b[1;33m\u001b[0m\u001b[0m\n",
      "\u001b[1;31mKeyboardInterrupt\u001b[0m: "
     ]
    }
   ],
   "source": [
    "total_clusters = [i for i in range(2, int(math.sqrt(len(X))))]\n",
    "random.shuffle(total_clusters)\n",
    "for k in total_clusters[:10]:\n",
    "#     print(\"k: {}\".format(k))\n",
    "    print(\"Starting K means for k={}\".format(k))\n",
    "    cluster_id_to_centroid_features, node_id_to_cluster_id, node_id_to_node_features = K_means(k, X)\n",
    "    print(\"K means finished!. Starting writing i\")\n",
    "    if not os.path.exists(os.path.dirname('cluster_number_{}'.format(k))):\n",
    "        os.makedirs('clusters/cluster_number_'+str(k))\n",
    "\n",
    "    for node_id, cluster_id in node_id_to_cluster_id.items():\n",
    "        with open('clusters/cluster_number_{}/cluster{}.txt'.format(k, cluster_id+1), 'a+') as f:\n",
    "            text = str(node_id)+'\\n'\n",
    "            f.write(text)"
   ]
  },
  {
   "cell_type": "code",
   "execution_count": null,
   "metadata": {},
   "outputs": [],
   "source": []
  }
 ],
 "metadata": {
  "kernelspec": {
   "display_name": "Python [conda env:for_ml]",
   "language": "python",
   "name": "conda-env-for_ml-py"
  },
  "language_info": {
   "codemirror_mode": {
    "name": "ipython",
    "version": 3
   },
   "file_extension": ".py",
   "mimetype": "text/x-python",
   "name": "python",
   "nbconvert_exporter": "python",
   "pygments_lexer": "ipython3",
   "version": "3.6.6"
  }
 },
 "nbformat": 4,
 "nbformat_minor": 2
}
