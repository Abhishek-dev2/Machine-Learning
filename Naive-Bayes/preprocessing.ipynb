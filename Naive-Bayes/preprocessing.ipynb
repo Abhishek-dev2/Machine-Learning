{
 "cells": [
  {
   "cell_type": "code",
   "execution_count": 52,
   "metadata": {},
   "outputs": [],
   "source": [
    "import nltk\n",
    "import re\n",
    "import string\n",
    "from nltk.stem import PorterStemmer\n",
    "from nltk.corpus import stopwords"
   ]
  },
  {
   "cell_type": "code",
   "execution_count": 72,
   "metadata": {},
   "outputs": [],
   "source": [
    "def preprocessing(line, negative_contruct:list, smile_positive:list, smile_negative:list, ps:'Porter Stemmer', stop_words:list):\n",
    "    line = re.sub(r'http\\S+', '', line)  # remove URL\n",
    "    line = re.sub('@[\\w_]+', '', line)   # remove USER_MENTIONS\n",
    "    line = re.sub('#[\\w]+', '', line)   # remove hashtags\n",
    "    line = line.split()\n",
    "    for i, word in enumerate(line):     # replace negative constructs with not\n",
    "        if word in negative_construct:\n",
    "            line[i]=\"not\"\n",
    "        if word in smile_positive:    #replacing emojis with class name\n",
    "            line[i] = \"smile_positive\"\n",
    "        if word in smile_negative:\n",
    "            line[i] = \"smile_negative\"\n",
    "        line[i] = ps.stem(word)      # stemming\n",
    "        \n",
    "        if line[i] in stop_words:\n",
    "            line[i] = ''\n",
    "        line[i] = line[i].lower()\n",
    "    line = ' '.join(line)\n",
    "\n",
    "    translator = str.maketrans('', '', string.punctuation) # remove punctuations\n",
    "    line = line.translate(translator)\n",
    "    line = ' '.join(line.split())\n",
    "    return line"
   ]
  },
  {
   "cell_type": "code",
   "execution_count": 73,
   "metadata": {},
   "outputs": [],
   "source": [
    "file ='./Dataset.txt'\n",
    "negative_construct = [ \"can't\", \"wouldn't\", \"wasn't\", \"hadn't\", \"never\", \"won't\"]\n",
    "\n",
    "smile_pos = \"\"\":‑) :-] :-3 :-> 8-) :-} :o) :c) :^) =] =) :) :] :3 :> 8) :} :‑D :D 8‑D 8D x‑D xD\n",
    "X‑D XD =D =3 B^D :-)) :'‑) :') :‑O :O :‑o :o :-0 8‑0 >:O :-* :* :× ;‑) ;) *-) *)\n",
    ";‑] ;] ;^) :‑, ;D :‑P :P X‑P XP x‑p xp :‑p :p :‑Þ :‑Þ :‑þ :þ :Þ :Þ :‑b :b d: =p\n",
    ">:P O:‑) O:) 0:‑3 0:3 0:‑) 0:) 0;^) |;‑) :‑J #‑) %‑) %) <3 @};- @}->--\n",
    "@}‑;‑'‑‑‑ @>‑‑>‑‑\"\"\".split()\n",
    "\n",
    "smile_neg = \"\"\":‑( :( :‑c :c :‑< :< :‑[ :[ :-|| >:[ :{ :@ >:( :'‑( :'( D‑': D:< D: D8 D; D= DX :‑/\n",
    ":/ :‑. >:\\ :L =L :S :‑| :| :‑X :X :‑# :# :‑& :& >:‑) >:) }:‑) }:) 3:‑) 3:) >;) ',:-l\n",
    "',:-| >_> <_< <\\3 </3\n",
    "\"\"\".split()\n",
    "\n",
    "ps = PorterStemmer()\n",
    "\n",
    "stop_words = set(stopwords.words('english'))"
   ]
  },
  {
   "cell_type": "code",
   "execution_count": 83,
   "metadata": {},
   "outputs": [],
   "source": [
    "lines = []\n",
    "with open(file, encoding='utf-8') as f:\n",
    "    for line in f:\n",
    "        line = preprocessing(line, negative_construct, smile_pos, smile_neg, ps, stop_words)\n",
    "        lines.append(line)"
   ]
  },
  {
   "cell_type": "code",
   "execution_count": 84,
   "metadata": {},
   "outputs": [
    {
     "name": "stdout",
     "output_type": "stream",
     "text": [
      "i run\n"
     ]
    }
   ],
   "source": [
    "s = \"I am the running won't .... :)\"\n",
    "print(preprocessing(s, negative_construct, smile_pos, smile_neg, ps, stop_words))"
   ]
  }
 ],
 "metadata": {
  "kernelspec": {
   "display_name": "Python [conda env:for_ml]",
   "language": "python",
   "name": "conda-env-for_ml-py"
  },
  "language_info": {
   "codemirror_mode": {
    "name": "ipython",
    "version": 3
   },
   "file_extension": ".py",
   "mimetype": "text/x-python",
   "name": "python",
   "nbconvert_exporter": "python",
   "pygments_lexer": "ipython3",
   "version": "3.6.6"
  }
 },
 "nbformat": 4,
 "nbformat_minor": 2
}
