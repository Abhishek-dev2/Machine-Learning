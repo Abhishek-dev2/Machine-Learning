{
 "cells": [
  {
   "cell_type": "code",
   "execution_count": 10,
   "metadata": {
    "collapsed": true
   },
   "outputs": [],
   "source": [
    "import nltk\n",
    "import re\n",
    "import string\n",
    "from nltk.stem import PorterStemmer\n",
    "from nltk.corpus import stopwords\n",
    "from collections import defaultdict\n",
    "import random"
   ]
  },
  {
   "cell_type": "code",
   "execution_count": 11,
   "metadata": {
    "collapsed": true
   },
   "outputs": [],
   "source": [
    "def preprocessing(line, negative_contruct:list, smile_positive:list, smile_negative:list, ps:'Porter Stemmer', stop_words:list):\n",
    "    line = re.sub(r'http\\S+', '', line)  # remove URL\n",
    "    line = re.sub('@[\\w_]+', '', line)   # remove USER_MENTIONS\n",
    "    line = re.sub('#[\\w]+', '', line)   # remove hashtags\n",
    "    \n",
    "    line = line.lower().split()\n",
    "    \n",
    "    # replace negative constructs with not\n",
    "    # removing stop words\n",
    "    # replacing emoticons\n",
    "    for i, word in enumerate(line):\n",
    "        if line[i] in negative_construct:\n",
    "            line[i] = \"not\"\n",
    "        elif line[i] in stop_words:\n",
    "            line[i] = ''\n",
    "        elif line[i] in smile_positive:\n",
    "            line[i] = \"smile_positive\"\n",
    "        elif line[i] in smile_negative:\n",
    "            line[i] = \"smile_negative\"\n",
    "    line = ' '.join(line)\n",
    "    \n",
    "    # remove punctuations\n",
    "    translator = str.maketrans('', '', string.punctuation)\n",
    "    line = line.translate(translator)\n",
    "    line = ' '.join(line.split())\n",
    "\n",
    "    # stemming words\n",
    "    line = line.split()\n",
    "    for i, word in enumerate(line):     # replace negative constructs with not\n",
    "        if line[i] == \"smilepositive\":\n",
    "            line[i] = \"smile_positive\"\n",
    "            continue\n",
    "        if line[i] == \"smilenegative\":\n",
    "            line[i] = \"smile_negative\"\n",
    "            continue\n",
    "        line[i] = ps.stem(line[i])      # stemming\n",
    "    line = ' '.join(line)\n",
    "    \n",
    "    return line"
   ]
  },
  {
   "cell_type": "code",
   "execution_count": 12,
   "metadata": {
    "collapsed": true
   },
   "outputs": [],
   "source": [
    "file ='./Dataset.txt'\n",
    "negative_construct = [ \"can't\", \"wouldn't\", \"wasn't\", \"hadn't\", \"never\", \"won't\"]\n",
    "\n",
    "smile_pos = \"\"\":‑) :-] :-3 :-> 8-) :-} :o) :c) :^) =] =) :) :] :3 :> 8) :} :‑D :D 8‑D 8D x‑D xD\n",
    "X‑D XD =D =3 B^D :-)) :'‑) :') :‑O :O :‑o :o :-0 8‑0 >:O :-* :* :× ;‑) ;) *-) *)\n",
    ";‑] ;] ;^) :‑, ;D :‑P :P X‑P XP x‑p xp :‑p :p :‑Þ :‑Þ :‑þ :þ :Þ :Þ :‑b :b d: =p\n",
    ">:P O:‑) O:) 0:‑3 0:3 0:‑) 0:) 0;^) |;‑) :‑J #‑) %‑) %) <3 @};- @}->--\n",
    "@}‑;‑'‑‑‑ @>‑‑>‑‑\"\"\".split()\n",
    "\n",
    "smile_neg = \"\"\":‑( :( :‑c :c :‑< :< :‑[ :[ :-|| >:[ :{ :@ >:( :'‑( :'( D‑': D:< D: D8 D; D= DX :‑/\n",
    ":/ :‑. >:\\ :L =L :S :‑| :| :‑X :X :‑# :# :‑& :& >:‑) >:) }:‑) }:) 3:‑) 3:) >;) ',:-l\n",
    "',:-| >_> <_< <\\3 </3\n",
    "\"\"\".split()\n",
    "\n",
    "ps = PorterStemmer()\n",
    "\n",
    "stop_words = set(stopwords.words('english'))"
   ]
  },
  {
   "cell_type": "code",
   "execution_count": 13,
   "metadata": {
    "collapsed": true
   },
   "outputs": [],
   "source": [
    "lines = []\n",
    "unique_words = []\n",
    "with open(file, encoding='utf-8') as f:\n",
    "    for line in f:\n",
    "        line = preprocessing(line, negative_construct, smile_pos, smile_neg, ps, stop_words)\n",
    "        unique_words.extend(line.split())\n",
    "        lines.append(line)\n",
    "\n",
    "unique_words = set(unique_words)\n",
    "d = len(unique_words)"
   ]
  },
  {
   "cell_type": "code",
   "execution_count": 14,
   "metadata": {
    "collapsed": true
   },
   "outputs": [],
   "source": [
    "def get_train_test(lines: 'list of sentences', percent):\n",
    "    data = []\n",
    "    for line in lines:\n",
    "        outcome = int(line.split()[0])\n",
    "        sentence = ' '.join(line.split()[1:])\n",
    "        temp = [sentence, outcome]\n",
    "        data.append(temp)\n",
    "    \n",
    "    random.shuffle(data)\n",
    "    split_index = int(percent * len(data))\n",
    "    train_data = data[:split_index]\n",
    "    test_data = data[split_index:]\n",
    "    \n",
    "    return train_data, test_data       "
   ]
  },
  {
   "cell_type": "code",
   "execution_count": 15,
   "metadata": {
    "collapsed": true
   },
   "outputs": [],
   "source": [
    "train_data, test_data = get_train_test(lines, 0.75)"
   ]
  },
  {
   "cell_type": "code",
   "execution_count": 16,
   "metadata": {
    "collapsed": true
   },
   "outputs": [],
   "source": [
    "def generate_probabilities(dataset:'list[0] = sentence, list[1]= outcome', d: 'total unique words in train data'):\n",
    "    prob = defaultdict(int)\n",
    "    outcome_set = set()\n",
    "    # first store the counts of (word, outcome)\n",
    "    for sentence, outcome in dataset:\n",
    "        outcome_set.add(outcome)\n",
    "        prob[(outcome, None)] += 1 # (outcome, None) gives count of the outcome\n",
    "        for word in sentence.split():\n",
    "            tup = (word, outcome)\n",
    "            prob[tup] += 1\n",
    "            \n",
    "    # convert the counts to probabilities\n",
    "    for tup, count in prob.items():\n",
    "        if tup[1] is not None:\n",
    "            prob[tup] = (prob[tup] + 1) / (prob[(tup[1], None)] + d) # tup[1] is the outcome and (outcome, None) has count of the outcome\n",
    "    # convert count of outcome to prob\n",
    "    for outcome in outcome_set:\n",
    "        prob[(outcome, None)] = prob[(outcome, None)] / len(dataset)\n",
    "    return (prob, outcome_set)"
   ]
  },
  {
   "cell_type": "code",
   "execution_count": 17,
   "metadata": {},
   "outputs": [
    {
     "data": {
      "text/plain": [
       "0.00041228612657184083"
      ]
     },
     "execution_count": 17,
     "metadata": {},
     "output_type": "execute_result"
    }
   ],
   "source": [
    "probabilities, possible_outcomes = generate_probabilities(train_data, d)\n",
    "probabilities[('longer', 1)]"
   ]
  },
  {
   "cell_type": "code",
   "execution_count": 20,
   "metadata": {
    "collapsed": true
   },
   "outputs": [],
   "source": [
    "def bayes(probabilities:'dictionary of tuple to prob', sentence, possible_outcomes, d):\n",
    "    best_outcome = -1\n",
    "    best_prob = -1\n",
    "    for outcome in possible_outcomes:\n",
    "        cur_prob = 1\n",
    "        for word in sentence.split():\n",
    "            tup = (word, outcome)\n",
    "            if probabilities[tup] == 0:\n",
    "                probabilities[tup] = 1 / (probabilities[(tup[1], None)] + d)\n",
    "            cur_prob *= probabilities[tup]\n",
    "        cur_prob *= probabilities[(outcome, None)]\n",
    "        if cur_prob > best_prob:\n",
    "            best_prob = cur_prob\n",
    "            best_outcome = outcome\n",
    "    return best_outcome\n",
    "    "
   ]
  },
  {
   "cell_type": "code",
   "execution_count": 21,
   "metadata": {},
   "outputs": [],
   "source": [
    "correct_and_predicted = [] # list which stores correct outcome and predicted outcome for accuracy, f1 etc. temp[0] is correct. temp[1] is predicted\n",
    "for sentence, outcome in test_data:\n",
    "    predict = bayes(probabilities, sentence, possible_outcomes, d)\n",
    "    temp = [outcome, predict]\n",
    "    correct_and_predicted.append(temp)"
   ]
  },
  {
   "cell_type": "code",
   "execution_count": 22,
   "metadata": {},
   "outputs": [
    {
     "name": "stdout",
     "output_type": "stream",
     "text": [
      "Precision = 0.9714285714285714\n",
      "Recall = 0.9893307468477207\n",
      "F1 Score = 0.980297933685728\n",
      "Accuracy =  0.9768623024830699\n"
     ]
    }
   ],
   "source": [
    "true_positive = 0\n",
    "true_negative = 0\n",
    "false_positive = 0\n",
    "false_negative = 0\n",
    "for given, predicted in correct_and_predicted:\n",
    "    if given == 1 and predicted == 1:\n",
    "        true_positive += 1\n",
    "    elif given == 1 and predicted == 0:\n",
    "        false_negative += 1\n",
    "    elif given == 0 and predicted == 0:\n",
    "        true_negative += 1\n",
    "    elif given == 0 and predicted == 1:\n",
    "        false_positive += 1\n",
    "\n",
    "    \n",
    "precision = true_positive / (true_positive + false_positive) # true_positive out of all the predicted positive\n",
    "recall = true_positive / (true_positive + false_negative) # ture_positive out of all the actual positive\n",
    "f1_score = (2 * precision * recall) / (precision + recall)\n",
    "accuracy = (true_positive + true_negative) / len(correct_and_predicted) # total correct predicted\n",
    "print(\"Precision =\", precision)\n",
    "print(\"Recall =\", recall)\n",
    "print(\"F1 Score =\", f1_score)\n",
    "print(\"Accuracy = \", accuracy)"
   ]
  }
 ],
 "metadata": {
  "kernelspec": {
   "display_name": "Python 3",
   "language": "python",
   "name": "python3"
  },
  "language_info": {
   "codemirror_mode": {
    "name": "ipython",
    "version": 3
   },
   "file_extension": ".py",
   "mimetype": "text/x-python",
   "name": "python",
   "nbconvert_exporter": "python",
   "pygments_lexer": "ipython3",
   "version": "3.6.3"
  }
 },
 "nbformat": 4,
 "nbformat_minor": 2
}
