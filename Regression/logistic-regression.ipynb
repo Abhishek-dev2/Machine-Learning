{
 "cells": [
  {
   "cell_type": "code",
   "execution_count": 18,
   "metadata": {
    "collapsed": true
   },
   "outputs": [],
   "source": [
    "import numpy as np\n",
    "from sklearn.linear_model import LogisticRegression\n",
    "import pandas as pd\n",
    "from sklearn.model_selection import cross_val_score\n",
    "from sklearn.metrics import precision_recall_fscore_support\n",
    "from sklearn.metrics import confusion_matrix\n",
    "from matplotlib import pyplot as plt\n",
    "from prettytable import PrettyTable\n"
   ]
  },
  {
   "cell_type": "code",
   "execution_count": 19,
   "metadata": {
    "collapsed": true
   },
   "outputs": [],
   "source": [
    "df = pd.read_csv('winequality-red.csv', delimiter=';')"
   ]
  },
  {
   "cell_type": "code",
   "execution_count": 20,
   "metadata": {
    "collapsed": true
   },
   "outputs": [],
   "source": [
    "output = df['quality']"
   ]
  },
  {
   "cell_type": "code",
   "execution_count": 21,
   "metadata": {
    "collapsed": true
   },
   "outputs": [],
   "source": [
    "inp = df.drop('quality', axis=1)"
   ]
  },
  {
   "cell_type": "code",
   "execution_count": 22,
   "metadata": {
    "collapsed": true
   },
   "outputs": [],
   "source": [
    "X = inp.values\n",
    "y = output.values"
   ]
  },
  {
   "cell_type": "code",
   "execution_count": 23,
   "metadata": {
    "collapsed": true
   },
   "outputs": [],
   "source": [
    "def my_custom_score(estimator, X, y):\n",
    "    global avg_numpy, fold_num\n",
    "    table = PrettyTable(['Label', 'Precision', 'Recall', 'Fscore'])\n",
    "    y_pred = estimator.predict(X)\n",
    "    scores =  precision_recall_fscore_support(y, y_pred, average=None, warn_for=())\n",
    "    \n",
    "    avg_numpy = np.add(scores, avg_numpy)\n",
    "    \n",
    "    precision_per_class = scores[0].tolist()\n",
    "    recall_per_class = scores[1].tolist()\n",
    "    fscore_per_class = scores[2].tolist()\n",
    "    \n",
    "    print(\"Fold number {0}\".format(fold_num+1))\n",
    "    fold_num += 1\n",
    "    for label in range(6):\n",
    "        table.add_row([label+3, precision_per_class[label], recall_per_class[label], fscore_per_class[label]])\n",
    "    print(table)\n",
    "    print('\\nConfusion Matrix\\n{0}\\n************************************\\n'.format(confusion_matrix(y, y_pred, labels=[3,4,5,6,7,8])))\n",
    "    print(\"\\n\\n\")\n",
    "    return 1"
   ]
  },
  {
   "cell_type": "code",
   "execution_count": 24,
   "metadata": {
    "collapsed": true
   },
   "outputs": [
    {
     "name": "stdout",
     "output_type": "stream",
     "text": [
      "Fold number 1\n",
      "+-------+--------------------+--------------------+---------------------+\n",
      "| Label |     Precision      |       Recall       |        Fscore       |\n",
      "+-------+--------------------+--------------------+---------------------+\n",
      "|   3   |        0.0         |        0.0         |         0.0         |\n",
      "|   4   |        0.0         |        0.0         |         0.0         |\n",
      "|   5   | 0.5511111111111111 | 0.9051094890510949 |  0.6850828729281768 |\n",
      "|   6   | 0.5217391304347826 |       0.375        | 0.43636363636363634 |\n",
      "|   7   |        0.6         |       0.075        | 0.13333333333333333 |\n",
      "|   8   |        0.0         |        0.0         |         0.0         |\n",
      "+-------+--------------------+--------------------+---------------------+\n",
      "\n",
      "Confusion Matrix\n",
      "[[  0   0   2   0   0   0]\n",
      " [  0   0   8   3   0   0]\n",
      " [  0   0 124  13   0   0]\n",
      " [  0   0  80  48   0   0]\n",
      " [  0   0  11  26   3   0]\n",
      " [  0   0   0   2   2   0]]\n",
      "************************************\n",
      "\n",
      "\n",
      "\n",
      "\n",
      "Fold number 2\n",
      "+-------+---------------------+--------------------+--------------------+\n",
      "| Label |      Precision      |       Recall       |       Fscore       |\n",
      "+-------+---------------------+--------------------+--------------------+\n",
      "|   3   |         0.0         |        0.0         |        0.0         |\n",
      "|   4   |         0.0         |        0.0         |        0.0         |\n",
      "|   5   |  0.5813953488372093 | 0.7352941176470589 | 0.6493506493506493 |\n",
      "|   6   | 0.46923076923076923 |     0.4765625      | 0.4728682170542636 |\n",
      "|   7   | 0.42105263157894735 |        0.2         | 0.2711864406779661 |\n",
      "|   8   |         0.0         |        0.0         |        0.0         |\n",
      "+-------+---------------------+--------------------+--------------------+\n",
      "\n",
      "Confusion Matrix\n",
      "[[  0   0   1   1   0   0]\n",
      " [  0   0   9   2   0   0]\n",
      " [  0   0 100  33   3   0]\n",
      " [  0   0  61  61   6   0]\n",
      " [  0   0   1  31   8   0]\n",
      " [  0   0   0   2   2   0]]\n",
      "************************************\n",
      "\n",
      "\n",
      "\n",
      "\n",
      "Fold number 3\n",
      "+-------+--------------------+--------------------+--------------------+\n",
      "| Label |     Precision      |       Recall       |       Fscore       |\n",
      "+-------+--------------------+--------------------+--------------------+\n",
      "|   3   |        0.0         |        0.0         |        0.0         |\n",
      "|   4   |        0.0         |        0.0         |        0.0         |\n",
      "|   5   | 0.6748466257668712 | 0.8088235294117647 | 0.7357859531772575 |\n",
      "|   6   | 0.5364238410596026 |     0.6328125      | 0.5806451612903226 |\n",
      "|   7   | 0.2857142857142857 |        0.05        | 0.0851063829787234 |\n",
      "|   8   |        0.0         |        0.0         |        0.0         |\n",
      "+-------+--------------------+--------------------+--------------------+\n",
      "\n",
      "Confusion Matrix\n",
      "[[  0   0   2   0   0   0]\n",
      " [  0   0   5   6   0   0]\n",
      " [  0   0 110  25   1   0]\n",
      " [  0   0  44  81   3   0]\n",
      " [  0   0   2  36   2   0]\n",
      " [  0   0   0   3   1   0]]\n",
      "************************************\n",
      "\n",
      "\n",
      "\n",
      "\n",
      "Fold number 4\n",
      "+-------+--------------------+--------------------+---------------------+\n",
      "| Label |     Precision      |       Recall       |        Fscore       |\n",
      "+-------+--------------------+--------------------+---------------------+\n",
      "|   3   |        0.0         |        0.0         |         0.0         |\n",
      "|   4   |        0.0         |        0.0         |         0.0         |\n",
      "|   5   | 0.7241379310344828 | 0.6176470588235294 |  0.6666666666666667 |\n",
      "|   6   | 0.5263157894736842 | 0.7874015748031497 |  0.6309148264984228 |\n",
      "|   7   |        0.5         |        0.15        | 0.23076923076923075 |\n",
      "|   8   |        0.0         |        0.0         |         0.0         |\n",
      "+-------+--------------------+--------------------+---------------------+\n",
      "\n",
      "Confusion Matrix\n",
      "[[  0   0   2   0   0   0]\n",
      " [  0   0   6   4   0   0]\n",
      " [  0   0  84  52   0   0]\n",
      " [  0   0  22 100   5   0]\n",
      " [  0   0   2  32   6   0]\n",
      " [  0   0   0   2   1   0]]\n",
      "************************************\n",
      "\n",
      "\n",
      "\n",
      "\n",
      "Fold number 5\n",
      "+-------+--------------------+--------------------+--------------------+\n",
      "| Label |     Precision      |       Recall       |       Fscore       |\n",
      "+-------+--------------------+--------------------+--------------------+\n",
      "|   3   |        0.0         |        0.0         |        0.0         |\n",
      "|   4   |        0.0         |        0.0         |        0.0         |\n",
      "|   5   |       0.704        | 0.6470588235294118 | 0.6743295019157088 |\n",
      "|   6   | 0.5208333333333334 | 0.7874015748031497 | 0.6269592476489029 |\n",
      "|   7   |        0.0         |        0.0         |        0.0         |\n",
      "|   8   |        0.0         |        0.0         |        0.0         |\n",
      "+-------+--------------------+--------------------+--------------------+\n",
      "\n",
      "Confusion Matrix\n",
      "[[  0   0   2   0   0   0]\n",
      " [  0   0   7   3   0   0]\n",
      " [  0   0  88  48   0   0]\n",
      " [  0   0  27 100   0   0]\n",
      " [  0   0   1  38   0   0]\n",
      " [  0   0   0   3   0   0]]\n",
      "************************************\n",
      "\n",
      "\n",
      "\n",
      "\n"
     ]
    }
   ],
   "source": [
    "model = LogisticRegression()\n",
    "avg_numpy = np.zeros((4, len(set(y.tolist()))))\n",
    "fold_num = 0\n",
    "scores = cross_val_score(model, X, y, scoring= my_custom_score, cv=5)\n",
    "avg_numpy = np.divide(avg_numpy,5)"
   ]
  },
  {
   "cell_type": "code",
   "execution_count": 25,
   "metadata": {
    "collapsed": true
   },
   "outputs": [],
   "source": [
    "table = PrettyTable(['Labels', 'Avg_Precision', 'Avg_Recall', 'Avg_Fscore'])\n"
   ]
  },
  {
   "cell_type": "code",
   "execution_count": 26,
   "metadata": {},
   "outputs": [
    {
     "name": "stdout",
     "output_type": "stream",
     "text": [
      "+--------+----------------+----------------+----------------+\n",
      "| Labels | Avg_Precision  |   Avg_Recall   |   Avg_Fscore   |\n",
      "+--------+----------------+----------------+----------------+\n",
      "|   3    |      0.0       |      0.0       |      0.0       |\n",
      "|   4    |      0.0       |      0.0       |      0.0       |\n",
      "|   5    | 0.64709820335  | 0.742786603693 | 0.682243128808 |\n",
      "|   6    | 0.514908572706 | 0.611835629921 | 0.549550217771 |\n",
      "|   7    | 0.361353383459 |     0.095      | 0.144079077552 |\n",
      "|   8    |      0.0       |      0.0       |      0.0       |\n",
      "+--------+----------------+----------------+----------------+\n"
     ]
    }
   ],
   "source": [
    "for label in range(6):\n",
    "    table.add_row([label + 3, avg_numpy[0][label], avg_numpy[1][label], avg_numpy[2][label]])\n",
    "print(table)"
   ]
  },
  {
   "cell_type": "code",
   "execution_count": null,
   "metadata": {
    "collapsed": true
   },
   "outputs": [],
   "source": []
  }
 ],
 "metadata": {
  "kernelspec": {
   "display_name": "Python 3",
   "language": "python",
   "name": "python3"
  },
  "language_info": {
   "codemirror_mode": {
    "name": "ipython",
    "version": 3
   },
   "file_extension": ".py",
   "mimetype": "text/x-python",
   "name": "python",
   "nbconvert_exporter": "python",
   "pygments_lexer": "ipython3",
   "version": "3.6.3"
  }
 },
 "nbformat": 4,
 "nbformat_minor": 2
}
